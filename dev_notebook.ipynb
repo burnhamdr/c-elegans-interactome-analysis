{
 "cells": [
  {
   "cell_type": "code",
   "execution_count": 4,
   "metadata": {},
   "outputs": [
    {
     "name": "stdout",
     "output_type": "stream",
     "text": [
      "236 AS10 NeuronType.MOTOR\n"
     ]
    }
   ],
   "source": [
    "from util.neuron_metadata import *\n",
    "collection = NeuronMetadataCollection.load_from_chem_json('data/chem.json')\n",
    "print(collection.get_metadata(236))"
   ]
  }
 ],
 "metadata": {
  "kernelspec": {
   "display_name": "Python 3",
   "language": "python",
   "name": "python3"
  },
  "language_info": {
   "codemirror_mode": {
    "name": "ipython",
    "version": 3
   },
   "file_extension": ".py",
   "mimetype": "text/x-python",
   "name": "python",
   "nbconvert_exporter": "python",
   "pygments_lexer": "ipython3",
   "version": "3.7.3"
  }
 },
 "nbformat": 4,
 "nbformat_minor": 2
}
