{
 "cells": [
  {
   "cell_type": "markdown",
   "metadata": {},
   "source": [
    "Demo of Sobol sensitivity analysis. Copied with minor modifications from https://salib.readthedocs.io/en/latest/basics.html#an-example"
   ]
  },
  {
   "cell_type": "code",
   "execution_count": 14,
   "metadata": {},
   "outputs": [
    {
     "data": {
      "text/plain": [
       "{'S1': array([ 0.30797549,  0.44776661, -0.00425452]),\n",
       " 'S1_conf': array([0.05843843, 0.05421863, 0.05992518]),\n",
       " 'ST': array([0.56013728, 0.4387225 , 0.24284474]),\n",
       " 'ST_conf': array([0.08329113, 0.03388334, 0.02771901]),\n",
       " 'S2': array([[        nan,  0.01220462,  0.25152574],\n",
       "        [        nan,         nan, -0.00995392],\n",
       "        [        nan,         nan,         nan]]),\n",
       " 'S2_conf': array([[       nan, 0.07882101, 0.10072779],\n",
       "        [       nan,        nan, 0.06728668],\n",
       "        [       nan,        nan,        nan]])}"
      ]
     },
     "execution_count": 14,
     "metadata": {},
     "output_type": "execute_result"
    }
   ],
   "source": [
    "from SALib.sample import saltelli\n",
    "from SALib.analyze import sobol\n",
    "from SALib.test_functions import Ishigami\n",
    "import numpy as np\n",
    "\n",
    "# Define the model inputs\n",
    "problem = {\n",
    "    'num_vars': 3,\n",
    "    'names': ['x1', 'x2', 'x3'],\n",
    "    'bounds': [[-3.14159265359, 3.14159265359],\n",
    "               [-3.14159265359, 3.14159265359],\n",
    "               [-3.14159265359, 3.14159265359]]\n",
    "}\n",
    "# Generate samples. The shape is (8000, 3)\n",
    "# The Saltelli sampler generates N∗(2D+2) samples,\n",
    "# where in this example N is 1000 (the argument we supplied) and D is 3 (the number of model inputs).\n",
    "param_values = saltelli.sample(problem, 1000)\n",
    "\n",
    "# Run model (example)\n",
    "Y = Ishigami.evaluate(param_values)\n",
    "# For our use case, we have to run our model on each row of the param_values.\n",
    "# Then, save our result to a textfile\n",
    "# Use np.savetxt(\"param_values.txt\", param_values) and np.loadtxt(\"outputs.txt\", float) later.\n",
    "\n",
    "# Perform analysis\n",
    "Si = sobol.analyze(problem, Y)\n",
    "Si\n",
    "# S1 = first order sensitivity. Note x3 has no effect.\n",
    "# S1_conf - the confidence levels of S1 calculations\n",
    "# ST = total order indies. If much higher, then there are huge higher-order interactions\n",
    "# S2 = second order sensitivity. Si['S2'][0,1] -- is for x0, x1. Make sure column is bigger than row\n",
    "# Because the symmetric matrix is compressed to upper triangular.\n",
    "# We also see that There are strong interactions in x1-x3, which explains x3's total index >> first order index.\n",
    "# TODO: Wait, lower is actually better, but what is this exactly?\n",
    "\n",
    "# The figures to report are:\n",
    "# S1 table / bar chart\n",
    "# Total sensitivity / bar chart\n",
    "# S2 table / heatmap"
   ]
  }
 ],
 "metadata": {
  "kernelspec": {
   "display_name": "Python 3",
   "language": "python",
   "name": "python3"
  },
  "language_info": {
   "codemirror_mode": {
    "name": "ipython",
    "version": 3
   },
   "file_extension": ".py",
   "mimetype": "text/x-python",
   "name": "python",
   "nbconvert_exporter": "python",
   "pygments_lexer": "ipython3",
   "version": "3.7.3"
  }
 },
 "nbformat": 4,
 "nbformat_minor": 2
}
